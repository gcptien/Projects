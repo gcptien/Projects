{
 "cells": [
  {
   "cell_type": "code",
   "execution_count": 2,
   "metadata": {},
   "outputs": [],
   "source": [
    "import pandas as pd\n",
    "import numpy as np\n",
    "import matplotlib.pyplot as plt\n",
    "import seaborn as sns\n",
    "%matplotlib inline"
   ]
  },
  {
   "cell_type": "code",
   "execution_count": 3,
   "metadata": {},
   "outputs": [
    {
     "name": "stderr",
     "output_type": "stream",
     "text": [
      "C:\\Users\\cptien\\AppData\\Local\\Continuum\\anaconda3\\lib\\site-packages\\IPython\\core\\interactiveshell.py:3020: DtypeWarning: Columns (47) have mixed types. Specify dtype option on import or set low_memory=False.\n",
      "  interactivity=interactivity, compiler=compiler, result=result)\n"
     ]
    }
   ],
   "source": [
    "train_o = pd.read_csv(\"train.csv\")"
   ]
  },
  {
   "cell_type": "code",
   "execution_count": 4,
   "metadata": {},
   "outputs": [],
   "source": [
    "df = train_o.copy()"
   ]
  },
  {
   "cell_type": "code",
   "execution_count": 8,
   "metadata": {},
   "outputs": [
    {
     "data": {
      "text/html": [
       "<div>\n",
       "<style scoped>\n",
       "    .dataframe tbody tr th:only-of-type {\n",
       "        vertical-align: middle;\n",
       "    }\n",
       "\n",
       "    .dataframe tbody tr th {\n",
       "        vertical-align: top;\n",
       "    }\n",
       "\n",
       "    .dataframe thead th {\n",
       "        text-align: right;\n",
       "    }\n",
       "</style>\n",
       "<table border=\"1\" class=\"dataframe\">\n",
       "  <thead>\n",
       "    <tr style=\"text-align: right;\">\n",
       "      <th></th>\n",
       "      <th>GameId</th>\n",
       "      <th>PlayId</th>\n",
       "      <th>X</th>\n",
       "      <th>Y</th>\n",
       "      <th>S</th>\n",
       "      <th>A</th>\n",
       "      <th>Dis</th>\n",
       "      <th>Orientation</th>\n",
       "      <th>Dir</th>\n",
       "      <th>NflId</th>\n",
       "      <th>...</th>\n",
       "      <th>Distance</th>\n",
       "      <th>HomeScoreBeforePlay</th>\n",
       "      <th>VisitorScoreBeforePlay</th>\n",
       "      <th>NflIdRusher</th>\n",
       "      <th>DefendersInTheBox</th>\n",
       "      <th>Yards</th>\n",
       "      <th>PlayerWeight</th>\n",
       "      <th>Week</th>\n",
       "      <th>Temperature</th>\n",
       "      <th>Humidity</th>\n",
       "    </tr>\n",
       "  </thead>\n",
       "  <tbody>\n",
       "    <tr>\n",
       "      <th>count</th>\n",
       "      <td>5.097620e+05</td>\n",
       "      <td>5.097620e+05</td>\n",
       "      <td>509762.000000</td>\n",
       "      <td>509762.000000</td>\n",
       "      <td>509762.000000</td>\n",
       "      <td>509762.000000</td>\n",
       "      <td>509762.000000</td>\n",
       "      <td>509744.000000</td>\n",
       "      <td>509748.000000</td>\n",
       "      <td>5.097620e+05</td>\n",
       "      <td>...</td>\n",
       "      <td>509762.000000</td>\n",
       "      <td>509762.000000</td>\n",
       "      <td>509762.000000</td>\n",
       "      <td>5.097620e+05</td>\n",
       "      <td>509696.000000</td>\n",
       "      <td>509762.000000</td>\n",
       "      <td>509762.000000</td>\n",
       "      <td>509762.000000</td>\n",
       "      <td>461230.000000</td>\n",
       "      <td>503602.000000</td>\n",
       "    </tr>\n",
       "    <tr>\n",
       "      <th>mean</th>\n",
       "      <td>2.017594e+09</td>\n",
       "      <td>2.017594e+13</td>\n",
       "      <td>60.040304</td>\n",
       "      <td>26.783535</td>\n",
       "      <td>2.591912</td>\n",
       "      <td>1.683176</td>\n",
       "      <td>0.279406</td>\n",
       "      <td>180.247779</td>\n",
       "      <td>179.933859</td>\n",
       "      <td>2.344703e+06</td>\n",
       "      <td>...</td>\n",
       "      <td>8.329248</td>\n",
       "      <td>11.148073</td>\n",
       "      <td>9.501057</td>\n",
       "      <td>2.419204e+06</td>\n",
       "      <td>6.943025</td>\n",
       "      <td>4.212334</td>\n",
       "      <td>253.554388</td>\n",
       "      <td>9.096370</td>\n",
       "      <td>60.436442</td>\n",
       "      <td>55.646062</td>\n",
       "    </tr>\n",
       "    <tr>\n",
       "      <th>std</th>\n",
       "      <td>4.997098e+05</td>\n",
       "      <td>4.997098e+09</td>\n",
       "      <td>25.435261</td>\n",
       "      <td>7.238206</td>\n",
       "      <td>1.383601</td>\n",
       "      <td>0.976412</td>\n",
       "      <td>0.145482</td>\n",
       "      <td>104.298330</td>\n",
       "      <td>106.319488</td>\n",
       "      <td>6.418871e+05</td>\n",
       "      <td>...</td>\n",
       "      <td>3.795208</td>\n",
       "      <td>10.277098</td>\n",
       "      <td>9.366413</td>\n",
       "      <td>5.357783e+05</td>\n",
       "      <td>0.991130</td>\n",
       "      <td>6.436167</td>\n",
       "      <td>48.367386</td>\n",
       "      <td>5.000984</td>\n",
       "      <td>17.570291</td>\n",
       "      <td>25.430976</td>\n",
       "    </tr>\n",
       "    <tr>\n",
       "      <th>min</th>\n",
       "      <td>2.017091e+09</td>\n",
       "      <td>2.017091e+13</td>\n",
       "      <td>0.660000</td>\n",
       "      <td>1.850000</td>\n",
       "      <td>0.000000</td>\n",
       "      <td>0.000000</td>\n",
       "      <td>0.000000</td>\n",
       "      <td>0.000000</td>\n",
       "      <td>0.000000</td>\n",
       "      <td>2.220000e+02</td>\n",
       "      <td>...</td>\n",
       "      <td>1.000000</td>\n",
       "      <td>0.000000</td>\n",
       "      <td>0.000000</td>\n",
       "      <td>2.340000e+02</td>\n",
       "      <td>1.000000</td>\n",
       "      <td>-14.000000</td>\n",
       "      <td>153.000000</td>\n",
       "      <td>1.000000</td>\n",
       "      <td>9.000000</td>\n",
       "      <td>0.000000</td>\n",
       "    </tr>\n",
       "    <tr>\n",
       "      <th>25%</th>\n",
       "      <td>2.017111e+09</td>\n",
       "      <td>2.017111e+13</td>\n",
       "      <td>39.090000</td>\n",
       "      <td>22.730000</td>\n",
       "      <td>1.500000</td>\n",
       "      <td>0.940000</td>\n",
       "      <td>0.170000</td>\n",
       "      <td>90.630000</td>\n",
       "      <td>89.830000</td>\n",
       "      <td>2.532865e+06</td>\n",
       "      <td>...</td>\n",
       "      <td>6.000000</td>\n",
       "      <td>3.000000</td>\n",
       "      <td>0.000000</td>\n",
       "      <td>2.540011e+06</td>\n",
       "      <td>6.000000</td>\n",
       "      <td>1.000000</td>\n",
       "      <td>210.000000</td>\n",
       "      <td>5.000000</td>\n",
       "      <td>48.000000</td>\n",
       "      <td>43.000000</td>\n",
       "    </tr>\n",
       "    <tr>\n",
       "      <th>50%</th>\n",
       "      <td>2.017123e+09</td>\n",
       "      <td>2.017123e+13</td>\n",
       "      <td>60.290000</td>\n",
       "      <td>26.790000</td>\n",
       "      <td>2.470000</td>\n",
       "      <td>1.540000</td>\n",
       "      <td>0.270000</td>\n",
       "      <td>179.700000</td>\n",
       "      <td>180.090000</td>\n",
       "      <td>2.543765e+06</td>\n",
       "      <td>...</td>\n",
       "      <td>10.000000</td>\n",
       "      <td>9.000000</td>\n",
       "      <td>7.000000</td>\n",
       "      <td>2.552582e+06</td>\n",
       "      <td>7.000000</td>\n",
       "      <td>3.000000</td>\n",
       "      <td>245.000000</td>\n",
       "      <td>9.000000</td>\n",
       "      <td>62.000000</td>\n",
       "      <td>59.000000</td>\n",
       "    </tr>\n",
       "    <tr>\n",
       "      <th>75%</th>\n",
       "      <td>2.018110e+09</td>\n",
       "      <td>2.018110e+13</td>\n",
       "      <td>80.970000</td>\n",
       "      <td>30.860000</td>\n",
       "      <td>3.560000</td>\n",
       "      <td>2.290000</td>\n",
       "      <td>0.390000</td>\n",
       "      <td>270.400000</td>\n",
       "      <td>270.190000</td>\n",
       "      <td>2.555343e+06</td>\n",
       "      <td>...</td>\n",
       "      <td>10.000000</td>\n",
       "      <td>17.000000</td>\n",
       "      <td>14.000000</td>\n",
       "      <td>2.557976e+06</td>\n",
       "      <td>8.000000</td>\n",
       "      <td>6.000000</td>\n",
       "      <td>305.000000</td>\n",
       "      <td>14.000000</td>\n",
       "      <td>73.000000</td>\n",
       "      <td>71.000000</td>\n",
       "    </tr>\n",
       "    <tr>\n",
       "      <th>max</th>\n",
       "      <td>2.018123e+09</td>\n",
       "      <td>2.018123e+13</td>\n",
       "      <td>116.840000</td>\n",
       "      <td>56.450000</td>\n",
       "      <td>9.410000</td>\n",
       "      <td>14.710000</td>\n",
       "      <td>1.390000</td>\n",
       "      <td>360.000000</td>\n",
       "      <td>360.000000</td>\n",
       "      <td>2.561671e+06</td>\n",
       "      <td>...</td>\n",
       "      <td>40.000000</td>\n",
       "      <td>57.000000</td>\n",
       "      <td>51.000000</td>\n",
       "      <td>2.561468e+06</td>\n",
       "      <td>11.000000</td>\n",
       "      <td>99.000000</td>\n",
       "      <td>380.000000</td>\n",
       "      <td>17.000000</td>\n",
       "      <td>97.000000</td>\n",
       "      <td>100.000000</td>\n",
       "    </tr>\n",
       "  </tbody>\n",
       "</table>\n",
       "<p>8 rows × 25 columns</p>\n",
       "</div>"
      ],
      "text/plain": [
       "             GameId        PlayId              X              Y  \\\n",
       "count  5.097620e+05  5.097620e+05  509762.000000  509762.000000   \n",
       "mean   2.017594e+09  2.017594e+13      60.040304      26.783535   \n",
       "std    4.997098e+05  4.997098e+09      25.435261       7.238206   \n",
       "min    2.017091e+09  2.017091e+13       0.660000       1.850000   \n",
       "25%    2.017111e+09  2.017111e+13      39.090000      22.730000   \n",
       "50%    2.017123e+09  2.017123e+13      60.290000      26.790000   \n",
       "75%    2.018110e+09  2.018110e+13      80.970000      30.860000   \n",
       "max    2.018123e+09  2.018123e+13     116.840000      56.450000   \n",
       "\n",
       "                   S              A            Dis    Orientation  \\\n",
       "count  509762.000000  509762.000000  509762.000000  509744.000000   \n",
       "mean        2.591912       1.683176       0.279406     180.247779   \n",
       "std         1.383601       0.976412       0.145482     104.298330   \n",
       "min         0.000000       0.000000       0.000000       0.000000   \n",
       "25%         1.500000       0.940000       0.170000      90.630000   \n",
       "50%         2.470000       1.540000       0.270000     179.700000   \n",
       "75%         3.560000       2.290000       0.390000     270.400000   \n",
       "max         9.410000      14.710000       1.390000     360.000000   \n",
       "\n",
       "                 Dir         NflId  ...       Distance  HomeScoreBeforePlay  \\\n",
       "count  509748.000000  5.097620e+05  ...  509762.000000        509762.000000   \n",
       "mean      179.933859  2.344703e+06  ...       8.329248            11.148073   \n",
       "std       106.319488  6.418871e+05  ...       3.795208            10.277098   \n",
       "min         0.000000  2.220000e+02  ...       1.000000             0.000000   \n",
       "25%        89.830000  2.532865e+06  ...       6.000000             3.000000   \n",
       "50%       180.090000  2.543765e+06  ...      10.000000             9.000000   \n",
       "75%       270.190000  2.555343e+06  ...      10.000000            17.000000   \n",
       "max       360.000000  2.561671e+06  ...      40.000000            57.000000   \n",
       "\n",
       "       VisitorScoreBeforePlay   NflIdRusher  DefendersInTheBox          Yards  \\\n",
       "count           509762.000000  5.097620e+05      509696.000000  509762.000000   \n",
       "mean                 9.501057  2.419204e+06           6.943025       4.212334   \n",
       "std                  9.366413  5.357783e+05           0.991130       6.436167   \n",
       "min                  0.000000  2.340000e+02           1.000000     -14.000000   \n",
       "25%                  0.000000  2.540011e+06           6.000000       1.000000   \n",
       "50%                  7.000000  2.552582e+06           7.000000       3.000000   \n",
       "75%                 14.000000  2.557976e+06           8.000000       6.000000   \n",
       "max                 51.000000  2.561468e+06          11.000000      99.000000   \n",
       "\n",
       "        PlayerWeight           Week    Temperature       Humidity  \n",
       "count  509762.000000  509762.000000  461230.000000  503602.000000  \n",
       "mean      253.554388       9.096370      60.436442      55.646062  \n",
       "std        48.367386       5.000984      17.570291      25.430976  \n",
       "min       153.000000       1.000000       9.000000       0.000000  \n",
       "25%       210.000000       5.000000      48.000000      43.000000  \n",
       "50%       245.000000       9.000000      62.000000      59.000000  \n",
       "75%       305.000000      14.000000      73.000000      71.000000  \n",
       "max       380.000000      17.000000      97.000000     100.000000  \n",
       "\n",
       "[8 rows x 25 columns]"
      ]
     },
     "execution_count": 8,
     "metadata": {},
     "output_type": "execute_result"
    }
   ],
   "source": [
    "df.describe()"
   ]
  },
  {
   "cell_type": "code",
   "execution_count": 22,
   "metadata": {},
   "outputs": [
    {
     "name": "stdout",
     "output_type": "stream",
     "text": [
      "Is there any column with null data: True\n",
      "If so, How many null columns: 11\n",
      "The columns are: \n",
      " ['Orientation', 'Dir', 'FieldPosition', 'OffenseFormation', 'DefendersInTheBox', 'StadiumType', 'GameWeather', 'Temperature', 'Humidity', 'WindSpeed', 'WindDirection']\n"
     ]
    }
   ],
   "source": [
    "itemNull = df.columns[df.isnull().any()].tolist()\n",
    "anyNull = df.isnull().any().any()\n",
    "numNull = df.isnull().any().value_counts()\n",
    "print(f'Is there any column with null data: {anyNull}')\n",
    "print(f'If so, How many null columns: {numNull[1]}')\n",
    "print(f'The columns are: \\n {itemNull}')"
   ]
  },
  {
   "cell_type": "code",
   "execution_count": 25,
   "metadata": {},
   "outputs": [
    {
     "data": {
      "text/plain": [
       "Index(['GameId', 'PlayId', 'Team', 'X', 'Y', 'S', 'A', 'Dis', 'Orientation',\n",
       "       'Dir', 'NflId', 'DisplayName', 'JerseyNumber', 'Season', 'YardLine',\n",
       "       'Quarter', 'GameClock', 'PossessionTeam', 'Down', 'Distance',\n",
       "       'FieldPosition', 'HomeScoreBeforePlay', 'VisitorScoreBeforePlay',\n",
       "       'NflIdRusher', 'OffenseFormation', 'OffensePersonnel',\n",
       "       'DefendersInTheBox', 'DefensePersonnel', 'PlayDirection', 'TimeHandoff',\n",
       "       'TimeSnap', 'Yards', 'PlayerHeight', 'PlayerWeight', 'PlayerBirthDate',\n",
       "       'PlayerCollegeName', 'Position', 'HomeTeamAbbr', 'VisitorTeamAbbr',\n",
       "       'Week', 'Stadium', 'Location', 'StadiumType', 'Turf', 'GameWeather',\n",
       "       'Temperature', 'Humidity', 'WindSpeed', 'WindDirection'],\n",
       "      dtype='object')"
      ]
     },
     "execution_count": 25,
     "metadata": {},
     "output_type": "execute_result"
    }
   ],
   "source": [
    "df.columns"
   ]
  },
  {
   "cell_type": "code",
   "execution_count": null,
   "metadata": {},
   "outputs": [],
   "source": [
    "plt.figure(figsize=(20,10))\n",
    "sns.jointplot(x=\"X\", y=\"Y\", data=df, kind='kde')\n"
   ]
  },
  {
   "cell_type": "code",
   "execution_count": 24,
   "metadata": {},
   "outputs": [
    {
     "data": {
      "text/plain": [
       "<matplotlib.axes._subplots.AxesSubplot at 0x2b1f2842160>"
      ]
     },
     "execution_count": 24,
     "metadata": {},
     "output_type": "execute_result"
    },
    {
     "data": {
      "image/png": "[encoded data removed]",
      "text/plain": [
       "<Figure size 432x288 with 1 Axes>"
      ]
     },
     "metadata": {
      "needs_background": "light"
     },
     "output_type": "display_data"
    }
   ],
   "source": [
    "sns.distplot(df.Yards)"
   ]
  },
  {
   "cell_type": "code",
   "execution_count": 23,
   "metadata": {},
   "outputs": [
    {
     "data": {
      "text/plain": [
       "Index(['GameId', 'PlayId', 'Team', 'X', 'Y', 'S', 'A', 'Dis', 'Orientation',\n",
       "       'Dir', 'NflId', 'DisplayName', 'JerseyNumber', 'Season', 'YardLine',\n",
       "       'Quarter', 'GameClock', 'PossessionTeam', 'Down', 'Distance',\n",
       "       'FieldPosition', 'HomeScoreBeforePlay', 'VisitorScoreBeforePlay',\n",
       "       'NflIdRusher', 'OffenseFormation', 'OffensePersonnel',\n",
       "       'DefendersInTheBox', 'DefensePersonnel', 'PlayDirection', 'TimeHandoff',\n",
       "       'TimeSnap', 'Yards', 'PlayerHeight', 'PlayerWeight', 'PlayerBirthDate',\n",
       "       'PlayerCollegeName', 'Position', 'HomeTeamAbbr', 'VisitorTeamAbbr',\n",
       "       'Week', 'Stadium', 'Location', 'StadiumType', 'Turf', 'GameWeather',\n",
       "       'Temperature', 'Humidity', 'WindSpeed', 'WindDirection'],\n",
       "      dtype='object')"
      ]
     },
     "execution_count": 23,
     "metadata": {},
     "output_type": "execute_result"
    }
   ],
   "source": [
    "f, axes = plt.subplots(1,3, figsize=(15,5), sharex=True, sharey=True)\n",
    "sns.distplot(train['Hillshade_9am'], ax= axes[0])\n",
    "sns.distplot(train['Hillshade_Noon'], ax= axes[1])\n",
    "sns.distplot(train['Hillshade_3pm'], ax= axes[2])"
   ]
  },
  {
   "cell_type": "code",
   "execution_count": 19,
   "metadata": {},
   "outputs": [
    {
     "data": {
      "text/plain": [
       "Index(['Orientation', 'Dir', 'FieldPosition', 'OffenseFormation',\n",
       "       'DefendersInTheBox', 'StadiumType', 'GameWeather', 'Temperature',\n",
       "       'Humidity', 'WindSpeed', 'WindDirection'],\n",
       "      dtype='object')"
      ]
     },
     "execution_count": 19,
     "metadata": {},
     "output_type": "execute_result"
    }
   ],
   "source": [
    "\n",
    "itemNull"
   ]
  },
  {
   "cell_type": "code",
   "execution_count": null,
   "metadata": {},
   "outputs": [],
   "source": []
  }
 ],
 "metadata": {
  "kernelspec": {
   "display_name": "Python 3",
   "language": "python",
   "name": "python3"
  },
  "language_info": {
   "codemirror_mode": {
    "name": "ipython",
    "version": 3
   },
   "file_extension": ".py",
   "mimetype": "text/x-python",
   "name": "python",
   "nbconvert_exporter": "python",
   "pygments_lexer": "ipython3",
   "version": "3.6.5"
  }
 },
 "nbformat": 4,
 "nbformat_minor": 2
}
