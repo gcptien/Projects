{
 "cells": [
  {
   "cell_type": "code",
   "execution_count": 2,
   "metadata": {},
   "outputs": [],
   "source": [
    "import pandas as pd\n",
    "import numpy as np\n",
    "import matplotlib.pyplot as plt\n",
    "import seaborn as sns\n",
    "%matplotlib inline"
   ]
  },
  {
   "cell_type": "code",
   "execution_count": 3,
   "metadata": {},
   "outputs": [
    {
     "name": "stderr",
     "output_type": "stream",
     "text": [
      "C:\\Users\\cptien\\AppData\\Local\\Continuum\\anaconda3\\lib\\site-packages\\IPython\\core\\interactiveshell.py:3020: DtypeWarning: Columns (47) have mixed types. Specify dtype option on import or set low_memory=False.\n",
      "  interactivity=interactivity, compiler=compiler, result=result)\n"
     ]
    }
   ],
   "source": [
    "train_o = pd.read_csv(\"train.csv\")"
   ]
  },
  {
   "cell_type": "code",
   "execution_count": 4,
   "metadata": {},
   "outputs": [],
   "source": [
    "df = train_o.copy()"
   ]
  },
  {
   "cell_type": "code",
   "execution_count": 37,
   "metadata": {},
   "outputs": [
    {
     "data": {
      "text/plain": [
       "GameId                                  2017090700\n",
       "PlayId                              20170907000118\n",
       "Team                                          away\n",
       "X                                            74.67\n",
       "Y                                            32.64\n",
       "S                                             0.42\n",
       "A                                             1.35\n",
       "Dis                                           0.01\n",
       "Orientation                                  27.61\n",
       "Dir                                          198.7\n",
       "NflId                                      2495116\n",
       "DisplayName                           Allen Bailey\n",
       "JerseyNumber                                    97\n",
       "Season                                        2017\n",
       "YardLine                                        35\n",
       "Quarter                                          1\n",
       "GameClock                                 14:14:00\n",
       "PossessionTeam                                  NE\n",
       "Down                                             3\n",
       "Distance                                         2\n",
       "FieldPosition                                   NE\n",
       "HomeScoreBeforePlay                              0\n",
       "VisitorScoreBeforePlay                           0\n",
       "NflIdRusher                                2543773\n",
       "OffenseFormation                           SHOTGUN\n",
       "OffensePersonnel                  1 RB, 1 TE, 3 WR\n",
       "DefendersInTheBox                                6\n",
       "DefensePersonnel                  2 DL, 3 LB, 6 DB\n",
       "PlayDirection                                 left\n",
       "TimeHandoff               2017-09-08T00:44:06.000Z\n",
       "TimeSnap                  2017-09-08T00:44:05.000Z\n",
       "Yards                                            8\n",
       "PlayerHeight                                   6-3\n",
       "PlayerWeight                                   288\n",
       "PlayerBirthDate                         03/25/1989\n",
       "PlayerCollegeName                            Miami\n",
       "Position                                        DE\n",
       "HomeTeamAbbr                                    NE\n",
       "VisitorTeamAbbr                                 KC\n",
       "Week                                             1\n",
       "Stadium                           Gillette Stadium\n",
       "Location                            Foxborough, MA\n",
       "StadiumType                                Outdoor\n",
       "Turf                                    Field Turf\n",
       "GameWeather                         Clear and warm\n",
       "Temperature                                     63\n",
       "Humidity                                        77\n",
       "WindSpeed                                        8\n",
       "WindDirection                                   SW\n",
       "Name: 1, dtype: object"
      ]
     },
     "execution_count": 37,
     "metadata": {},
     "output_type": "execute_result"
    }
   ],
   "source": [
    "df.loc[1]"
   ]
  },
  {
   "cell_type": "code",
   "execution_count": 22,
   "metadata": {},
   "outputs": [
    {
     "name": "stdout",
     "output_type": "stream",
     "text": [
      "Is there any column with null data: True\n",
      "If so, How many null columns: 11\n",
      "The columns are: \n",
      " ['Orientation', 'Dir', 'FieldPosition', 'OffenseFormation', 'DefendersInTheBox', 'StadiumType', 'GameWeather', 'Temperature', 'Humidity', 'WindSpeed', 'WindDirection']\n"
     ]
    }
   ],
   "source": [
    "itemNull = df.columns[df.isnull().any()].tolist()\n",
    "anyNull = df.isnull().any().any()\n",
    "numNull = df.isnull().any().value_counts()\n",
    "print(f'Is there any column with null data: {anyNull}')\n",
    "print(f'If so, How many null columns: {numNull[1]}')\n",
    "print(f'The columns are: \\n {itemNull}')"
   ]
  },
  {
   "cell_type": "code",
   "execution_count": 25,
   "metadata": {},
   "outputs": [
    {
     "data": {
      "text/plain": [
       "Index(['GameId', 'PlayId', 'Team', 'X', 'Y', 'S', 'A', 'Dis', 'Orientation',\n",
       "       'Dir', 'NflId', 'DisplayName', 'JerseyNumber', 'Season', 'YardLine',\n",
       "       'Quarter', 'GameClock', 'PossessionTeam', 'Down', 'Distance',\n",
       "       'FieldPosition', 'HomeScoreBeforePlay', 'VisitorScoreBeforePlay',\n",
       "       'NflIdRusher', 'OffenseFormation', 'OffensePersonnel',\n",
       "       'DefendersInTheBox', 'DefensePersonnel', 'PlayDirection', 'TimeHandoff',\n",
       "       'TimeSnap', 'Yards', 'PlayerHeight', 'PlayerWeight', 'PlayerBirthDate',\n",
       "       'PlayerCollegeName', 'Position', 'HomeTeamAbbr', 'VisitorTeamAbbr',\n",
       "       'Week', 'Stadium', 'Location', 'StadiumType', 'Turf', 'GameWeather',\n",
       "       'Temperature', 'Humidity', 'WindSpeed', 'WindDirection'],\n",
       "      dtype='object')"
      ]
     },
     "execution_count": 25,
     "metadata": {},
     "output_type": "execute_result"
    }
   ],
   "source": [
    "df.columns"
   ]
  },
  {
   "cell_type": "code",
   "execution_count": 29,
   "metadata": {},
   "outputs": [
    {
     "data": {
      "text/plain": [
       "<seaborn.axisgrid.JointGrid at 0x2b1f20d8a90>"
      ]
     },
     "execution_count": 29,
     "metadata": {},
     "output_type": "execute_result"
    },
    {
     "data": {
      "text/plain": [
       "<Figure size 1440x720 with 0 Axes>"
      ]
     },
     "metadata": {},
     "output_type": "display_data"
    },
    {
     "data": {
      "image/png": "[encoded data removed]",
      "text/plain": [
       "<Figure size 432x432 with 3 Axes>"
      ]
     },
     "metadata": {
      "needs_background": "light"
     },
     "output_type": "display_data"
    }
   ],
   "source": [
    "plt.figure(figsize=(20,10))\n",
    "sns.jointplot(x=\"X\", y=\"Y\", data=df, kind='kde')\n"
   ]
  },
  {
   "cell_type": "code",
   "execution_count": 24,
   "metadata": {},
   "outputs": [
    {
     "data": {
      "text/plain": [
       "<matplotlib.axes._subplots.AxesSubplot at 0x2b1f2842160>"
      ]
     },
     "execution_count": 24,
     "metadata": {},
     "output_type": "execute_result"
    },
    {
     "data": {
      "image/png": "[encoded data removed]",
      "text/plain": [
       "<Figure size 432x288 with 1 Axes>"
      ]
     },
     "metadata": {
      "needs_background": "light"
     },
     "output_type": "display_data"
    }
   ],
   "source": [
    "sns.distplot(df.Yards)"
   ]
  },
  {
   "cell_type": "code",
   "execution_count": 23,
   "metadata": {},
   "outputs": [
    {
     "data": {
      "text/plain": [
       "Index(['GameId', 'PlayId', 'Team', 'X', 'Y', 'S', 'A', 'Dis', 'Orientation',\n",
       "       'Dir', 'NflId', 'DisplayName', 'JerseyNumber', 'Season', 'YardLine',\n",
       "       'Quarter', 'GameClock', 'PossessionTeam', 'Down', 'Distance',\n",
       "       'FieldPosition', 'HomeScoreBeforePlay', 'VisitorScoreBeforePlay',\n",
       "       'NflIdRusher', 'OffenseFormation', 'OffensePersonnel',\n",
       "       'DefendersInTheBox', 'DefensePersonnel', 'PlayDirection', 'TimeHandoff',\n",
       "       'TimeSnap', 'Yards', 'PlayerHeight', 'PlayerWeight', 'PlayerBirthDate',\n",
       "       'PlayerCollegeName', 'Position', 'HomeTeamAbbr', 'VisitorTeamAbbr',\n",
       "       'Week', 'Stadium', 'Location', 'StadiumType', 'Turf', 'GameWeather',\n",
       "       'Temperature', 'Humidity', 'WindSpeed', 'WindDirection'],\n",
       "      dtype='object')"
      ]
     },
     "execution_count": 23,
     "metadata": {},
     "output_type": "execute_result"
    }
   ],
   "source": [
    "f, axes = plt.subplots(1,3, figsize=(15,5), sharex=True, sharey=True)\n",
    "sns.distplot(train['Hillshade_9am'], ax= axes[0])\n",
    "sns.distplot(train['Hillshade_Noon'], ax= axes[1])\n",
    "sns.distplot(train['Hillshade_3pm'], ax= axes[2])"
   ]
  },
  {
   "cell_type": "code",
   "execution_count": 34,
   "metadata": {},
   "outputs": [
    {
     "ename": "NameError",
     "evalue": "name 'col_to_remove' is not defined",
     "output_type": "error",
     "traceback": [
      "\u001b[1;31m---------------------------------------------------------------------------\u001b[0m",
      "\u001b[1;31mNameError\u001b[0m                                 Traceback (most recent call last)",
      "\u001b[1;32m<ipython-input-34-ecf4d743296e>\u001b[0m in \u001b[0;36m<module>\u001b[1;34m\u001b[0m\n\u001b[1;32m----> 1\u001b[1;33m \u001b[0mcol_to_remove\u001b[0m\u001b[1;33m[\u001b[0m\u001b[1;34m'DisplayName'\u001b[0m\u001b[1;33m,\u001b[0m\u001b[1;34m'JerseyNumber'\u001b[0m\u001b[1;33m]\u001b[0m\u001b[1;33m\u001b[0m\u001b[0m\n\u001b[0m",
      "\u001b[1;31mNameError\u001b[0m: name 'col_to_remove' is not defined"
     ]
    }
   ],
   "source": [
    "col_to_remove['DisplayName','JerseyNumber']"
   ]
  },
  {
   "cell_type": "code",
   "execution_count": 33,
   "metadata": {},
   "outputs": [
    {
     "data": {
      "text/plain": [
       "1 RB, 1 TE, 3 WR               232958\n",
       "1 RB, 2 TE, 2 WR               114092\n",
       "2 RB, 1 TE, 2 WR                53636\n",
       "1 RB, 3 TE, 1 WR                31306\n",
       "2 RB, 2 TE, 1 WR                25828\n",
       "6 OL, 1 RB, 2 TE, 1 WR           9680\n",
       "6 OL, 1 RB, 1 TE, 2 WR           8426\n",
       "6 OL, 2 RB, 1 TE, 1 WR           5896\n",
       "6 OL, 2 RB, 2 TE, 0 WR           3762\n",
       "2 RB, 0 TE, 3 WR                 3454\n",
       "1 RB, 2 TE, 1 WR,1 DL            3102\n",
       "6 OL, 1 RB, 0 TE, 3 WR           2178\n",
       "1 RB, 0 TE, 4 WR                 1870\n",
       "0 RB, 1 TE, 4 WR                 1672\n",
       "2 QB, 1 RB, 1 TE, 2 WR           1562\n",
       "2 RB, 3 TE, 0 WR                 1408\n",
       "6 OL, 1 RB, 3 TE, 0 WR           1210\n",
       "6 OL, 2 RB, 0 TE, 2 WR           1056\n",
       "1 RB, 1 TE, 2 WR,1 DL             748\n",
       "7 OL, 1 RB, 0 TE, 2 WR            682\n",
       "3 RB, 1 TE, 1 WR                  572\n",
       "2 QB, 2 RB, 1 TE, 1 WR            550\n",
       "1 RB, 3 TE, 0 WR,1 DL             440\n",
       "6 OL, 1 RB, 2 TE, 0 WR,1 DL       352\n",
       "3 RB, 0 TE, 2 WR                  286\n",
       "2 QB, 1 RB, 2 TE, 1 WR            264\n",
       "6 OL, 1 RB, 2 TE, 0 WR,1 LB       242\n",
       "7 OL, 1 RB, 2 TE, 0 WR            242\n",
       "7 OL, 2 RB, 0 TE, 1 WR            220\n",
       "1 RB, 1 TE, 2 WR,1 DB             220\n",
       "6 OL, 2 RB, 1 TE, 0 WR,1 DL       198\n",
       "1 RB, 2 TE, 1 WR,1 LB             198\n",
       "1 RB, 4 TE, 0 WR                  154\n",
       "2 QB, 1 RB, 0 TE, 3 WR            154\n",
       "6 OL, 1 RB, 1 TE, 1 WR,1 DL       154\n",
       "1 RB, 3 TE, 0 WR,1 LB             110\n",
       "3 RB, 2 TE, 0 WR                  110\n",
       "0 RB, 2 TE, 3 WR                  110\n",
       "0 RB, 3 TE, 2 WR                   66\n",
       "1 RB, 2 TE, 1 WR,1 DB              66\n",
       "1 RB, 0 TE, 3 WR,1 DB              66\n",
       "2 QB, 1 RB, 3 TE, 0 WR             44\n",
       "1 RB, 1 TE, 2 WR,1 LB              44\n",
       "2 QB, 2 RB, 0 TE, 2 WR             44\n",
       "0 RB, 0 TE, 5 WR                   44\n",
       "2 RB, 2 TE, 0 WR,1 DL              44\n",
       "7 OL, 2 RB, 1 TE, 0 WR             44\n",
       "2 QB, 3 RB, 1 TE, 0 WR             22\n",
       "1 RB, 2 TE, 3 WR                   22\n",
       "6 OL, 0 RB, 2 TE, 2 WR             22\n",
       "6 OL, 3 RB, 0 TE, 1 WR             22\n",
       "2 RB, 3 TE, 1 WR                   22\n",
       "6 OL, 1 RB, 1 TE, 0 WR,2 DL        22\n",
       "1 RB, 3 TE, 0 WR,1 DB              22\n",
       "2 RB, 1 TE, 1 WR,1 DB              22\n",
       "2 QB, 2 RB, 2 TE, 0 WR             22\n",
       "Name: OffensePersonnel, dtype: int64"
      ]
     },
     "execution_count": 33,
     "metadata": {},
     "output_type": "execute_result"
    }
   ],
   "source": [
    "df.OffensePersonnel.value_counts()"
   ]
  },
  {
   "cell_type": "code",
   "execution_count": null,
   "metadata": {
    "collapsed": true
   },
   "outputs": [],
   "source": []
  }
 ],
 "metadata": {
  "kernelspec": {
   "display_name": "Python 3",
   "language": "python",
   "name": "python3"
  },
  "language_info": {
   "codemirror_mode": {
    "name": "ipython",
    "version": 3
   },
   "file_extension": ".py",
   "mimetype": "text/x-python",
   "name": "python",
   "nbconvert_exporter": "python",
   "pygments_lexer": "ipython3",
   "version": "3.6.5"
  }
 },
 "nbformat": 4,
 "nbformat_minor": 2
}
